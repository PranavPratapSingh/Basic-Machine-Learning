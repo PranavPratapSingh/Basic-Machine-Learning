{
 "cells": [
  {
   "cell_type": "code",
   "execution_count": 1,
   "metadata": {},
   "outputs": [
    {
     "name": "stderr",
     "output_type": "stream",
     "text": [
      "Using TensorFlow backend.\n"
     ]
    }
   ],
   "source": [
    "import numpy as np\n",
    "import pandas as pd\n",
    "from matplotlib import pyplot as plt\n",
    "%matplotlib inline\n",
    "\n",
    "import keras\n",
    "\n",
    "from keras.layers import Convolution2D, Flatten, Dense, MaxPool2D, Activation, Dropout\n",
    "from keras.layers import UpSampling2D, Reshape, ZeroPadding2D, Input\n",
    "from keras.models import Model\n",
    "from keras.utils import np_utils"
   ]
  },
  {
   "cell_type": "code",
   "execution_count": 2,
   "metadata": {
    "collapsed": true
   },
   "outputs": [],
   "source": [
    "# Data loading\n",
    "\n",
    "ds = pd.read_csv('/home/pranavpratapsingh/Documents/Codes/Python/Datasets/train.csv')\n",
    "ds.shape\n",
    "data = ds.values[:10000]"
   ]
  },
  {
   "cell_type": "code",
   "execution_count": 3,
   "metadata": {},
   "outputs": [
    {
     "name": "stdout",
     "output_type": "stream",
     "text": [
      "(10000, 784) (10000, 10)\n"
     ]
    }
   ],
   "source": [
    "X = data[:, 1:]/255.0\n",
    "y = np_utils.to_categorical(data[:, 0])\n",
    "\n",
    "print X.shape, y.shape"
   ]
  },
  {
   "cell_type": "code",
   "execution_count": 4,
   "metadata": {},
   "outputs": [
    {
     "name": "stdout",
     "output_type": "stream",
     "text": [
      "(8000, 28, 28, 1) (2000, 28, 28, 1)\n"
     ]
    }
   ],
   "source": [
    "split = int(0.8 * X.shape[0])\n",
    "\n",
    "X_train = X[:split].reshape((-1, 28, 28, 1))\n",
    "X_test = X[split:].reshape((-1, 28, 28, 1))\n",
    "print X_train.shape, X_test.shape"
   ]
  },
  {
   "cell_type": "code",
   "execution_count": 5,
   "metadata": {},
   "outputs": [
    {
     "data": {
      "image/png": "[encoded data removed]",
      "text/plain": [
       "<matplotlib.figure.Figure at 0x7f3a3c5f0f10>"
      ]
     },
     "metadata": {},
     "output_type": "display_data"
    }
   ],
   "source": [
    "n_img = 42\n",
    "\n",
    "plt.imshow(X_train[n_img].reshape((28, 28)), cmap='gray')\n",
    "plt.show()"
   ]
  },
  {
   "cell_type": "code",
   "execution_count": 6,
   "metadata": {},
   "outputs": [
    {
     "name": "stdout",
     "output_type": "stream",
     "text": [
      "_________________________________________________________________\n",
      "Layer (type)                 Output Shape              Param #   \n",
      "=================================================================\n",
      "input_1 (InputLayer)         (None, 28, 28, 1)         0         \n",
      "_________________________________________________________________\n",
      "conv2d_1 (Conv2D)            (None, 24, 24, 32)        832       \n",
      "_________________________________________________________________\n",
      "activation_1 (Activation)    (None, 24, 24, 32)        0         \n",
      "_________________________________________________________________\n",
      "max_pooling2d_1 (MaxPooling2 (None, 12, 12, 32)        0         \n",
      "_________________________________________________________________\n",
      "conv2d_2 (Conv2D)            (None, 10, 10, 8)         2312      \n",
      "_________________________________________________________________\n",
      "activation_2 (Activation)    (None, 10, 10, 8)         0         \n",
      "_________________________________________________________________\n",
      "max_pooling2d_2 (MaxPooling2 (None, 5, 5, 8)           0         \n",
      "_________________________________________________________________\n",
      "flatten_1 (Flatten)          (None, 200)               0         \n",
      "_________________________________________________________________\n",
      "dense_1 (Dense)              (None, 32)                6432      \n",
      "_________________________________________________________________\n",
      "activation_3 (Activation)    (None, 32)                0         \n",
      "_________________________________________________________________\n",
      "dense_2 (Dense)              (None, 200)               6600      \n",
      "_________________________________________________________________\n",
      "activation_4 (Activation)    (None, 200)               0         \n",
      "_________________________________________________________________\n",
      "reshape_1 (Reshape)          (None, 5, 5, 8)           0         \n",
      "_________________________________________________________________\n",
      "up_sampling2d_1 (UpSampling2 (None, 10, 10, 8)         0         \n",
      "_________________________________________________________________\n",
      "zero_padding2d_1 (ZeroPaddin (None, 12, 12, 8)         0         \n",
      "_________________________________________________________________\n",
      "conv2d_3 (Conv2D)            (None, 12, 12, 32)        2336      \n",
      "_________________________________________________________________\n",
      "up_sampling2d_2 (UpSampling2 (None, 24, 24, 32)        0         \n",
      "_________________________________________________________________\n",
      "zero_padding2d_2 (ZeroPaddin (None, 28, 28, 32)        0         \n",
      "_________________________________________________________________\n",
      "conv2d_4 (Conv2D)            (None, 28, 28, 1)         801       \n",
      "=================================================================\n",
      "Total params: 19,313\n",
      "Trainable params: 19,313\n",
      "Non-trainable params: 0\n",
      "_________________________________________________________________\n"
     ]
    }
   ],
   "source": [
    "inp = Input(shape=(28, 28, 1))\n",
    "\n",
    "c1 = Convolution2D(32, (5, 5))\n",
    "a1 = Activation('relu')\n",
    "\n",
    "m1 = MaxPool2D(pool_size=(2, 2))\n",
    "\n",
    "c2 = Convolution2D(8, (3, 3))\n",
    "a2 = Activation('relu')\n",
    "\n",
    "m2 = MaxPool2D(pool_size=(2, 2))\n",
    "f1 = Flatten()\n",
    "\n",
    "emb_shape = 32\n",
    "e1 = Dense(emb_shape)\n",
    "emb = Activation('tanh')\n",
    "\n",
    "fc1 = Dense(200)\n",
    "a3 = Activation('sigmoid')\n",
    "\n",
    "re1 = Reshape((5, 5, 8))\n",
    "\n",
    "up1 = UpSampling2D(size=(2, 2))\n",
    "\n",
    "zp1 = ZeroPadding2D(padding=(1, 1))\n",
    "dc1 = Convolution2D(32, (3, 3), padding='same', activation='relu')\n",
    "\n",
    "up2 = UpSampling2D(size=(2, 2))\n",
    "\n",
    "zp2 = ZeroPadding2D(padding=(2, 2))\n",
    "dc2 = Convolution2D(1, (5, 5), padding='same', activation='relu')\n",
    "\n",
    "\n",
    "out_enc = emb(e1(f1(m2(a2(c2(m1(a1(c1(inp)))))))))\n",
    "out_model = dc2(zp2(up2(dc1(zp1(up1(re1(a3(fc1(out_enc)))))))))\n",
    "\n",
    "\n",
    "model = Model(inputs=[inp], outputs=[out_model])\n",
    "model.summary()\n",
    "\n",
    "model.compile(loss='mse', optimizer='adam', metrics=['accuracy'])\n",
    "\n",
    "encoder = Model(inputs=[inp], outputs=[out_enc])"
   ]
  },
  {
   "cell_type": "code",
   "execution_count": 7,
   "metadata": {},
   "outputs": [
    {
     "name": "stdout",
     "output_type": "stream",
     "text": [
      "_________________________________________________________________\n",
      "Layer (type)                 Output Shape              Param #   \n",
      "=================================================================\n",
      "input_1 (InputLayer)         (None, 28, 28, 1)         0         \n",
      "_________________________________________________________________\n",
      "conv2d_1 (Conv2D)            (None, 24, 24, 32)        832       \n",
      "_________________________________________________________________\n",
      "activation_1 (Activation)    (None, 24, 24, 32)        0         \n",
      "_________________________________________________________________\n",
      "max_pooling2d_1 (MaxPooling2 (None, 12, 12, 32)        0         \n",
      "_________________________________________________________________\n",
      "conv2d_2 (Conv2D)            (None, 10, 10, 8)         2312      \n",
      "_________________________________________________________________\n",
      "activation_2 (Activation)    (None, 10, 10, 8)         0         \n",
      "_________________________________________________________________\n",
      "max_pooling2d_2 (MaxPooling2 (None, 5, 5, 8)           0         \n",
      "_________________________________________________________________\n",
      "flatten_1 (Flatten)          (None, 200)               0         \n",
      "_________________________________________________________________\n",
      "dense_1 (Dense)              (None, 32)                6432      \n",
      "_________________________________________________________________\n",
      "activation_3 (Activation)    (None, 32)                0         \n",
      "=================================================================\n",
      "Total params: 9,576\n",
      "Trainable params: 9,576\n",
      "Non-trainable params: 0\n",
      "_________________________________________________________________\n"
     ]
    }
   ],
   "source": [
    "encoder.summary()"
   ]
  },
  {
   "cell_type": "code",
   "execution_count": 8,
   "metadata": {
    "scrolled": false
   },
   "outputs": [
    {
     "name": "stdout",
     "output_type": "stream",
     "text": [
      "_________________________________________________________________\n",
      "Layer (type)                 Output Shape              Param #   \n",
      "=================================================================\n",
      "input_2 (InputLayer)         (None, 32)                0         \n",
      "_________________________________________________________________\n",
      "dense_2 (Dense)              (None, 200)               6600      \n",
      "_________________________________________________________________\n",
      "activation_4 (Activation)    (None, 200)               0         \n",
      "_________________________________________________________________\n",
      "reshape_1 (Reshape)          (None, 5, 5, 8)           0         \n",
      "_________________________________________________________________\n",
      "up_sampling2d_1 (UpSampling2 (None, 10, 10, 8)         0         \n",
      "_________________________________________________________________\n",
      "zero_padding2d_1 (ZeroPaddin (None, 12, 12, 8)         0         \n",
      "_________________________________________________________________\n",
      "conv2d_3 (Conv2D)            (None, 12, 12, 32)        2336      \n",
      "_________________________________________________________________\n",
      "up_sampling2d_2 (UpSampling2 (None, 24, 24, 32)        0         \n",
      "_________________________________________________________________\n",
      "zero_padding2d_2 (ZeroPaddin (None, 28, 28, 32)        0         \n",
      "_________________________________________________________________\n",
      "conv2d_4 (Conv2D)            (None, 28, 28, 1)         801       \n",
      "=================================================================\n",
      "Total params: 9,737\n",
      "Trainable params: 9,737\n",
      "Non-trainable params: 0\n",
      "_________________________________________________________________\n"
     ]
    }
   ],
   "source": [
    "dec_inp = Input(shape=(emb_shape,))\n",
    "\n",
    "dec_out = dc2(zp2(up2(dc1(zp1(up1(re1(a3(fc1(dec_inp)))))))))\n",
    "\n",
    "decoder = Model(inputs=[dec_inp], outputs=[dec_out])\n",
    "decoder.summary()"
   ]
  },
  {
   "cell_type": "code",
   "execution_count": null,
   "metadata": {
    "collapsed": true
   },
   "outputs": [],
   "source": []
  },
  {
   "cell_type": "code",
   "execution_count": 9,
   "metadata": {},
   "outputs": [
    {
     "name": "stdout",
     "output_type": "stream",
     "text": [
      "Train on 8000 samples, validate on 2000 samples\n",
      "Epoch 1/10\n",
      "8000/8000 [==============================] - 7s - loss: 0.0638 - acc: 0.8008 - val_loss: 0.0459 - val_acc: 0.7974\n",
      "Epoch 2/10\n",
      "8000/8000 [==============================] - 2s - loss: 0.0376 - acc: 0.8023 - val_loss: 0.0317 - val_acc: 0.8032\n",
      "Epoch 3/10\n",
      "8000/8000 [==============================] - 2s - loss: 0.0282 - acc: 0.8064 - val_loss: 0.0254 - val_acc: 0.8060\n",
      "Epoch 4/10\n",
      "8000/8000 [==============================] - 2s - loss: 0.0233 - acc: 0.8085 - val_loss: 0.0223 - val_acc: 0.8081\n",
      "Epoch 5/10\n",
      "8000/8000 [==============================] - 1s - loss: 0.0207 - acc: 0.8095 - val_loss: 0.0198 - val_acc: 0.8074\n",
      "Epoch 6/10\n",
      "8000/8000 [==============================] - 1s - loss: 0.0187 - acc: 0.8103 - val_loss: 0.0184 - val_acc: 0.8073\n",
      "Epoch 7/10\n",
      "8000/8000 [==============================] - 1s - loss: 0.0174 - acc: 0.8107 - val_loss: 0.0170 - val_acc: 0.8093\n",
      "Epoch 8/10\n",
      "8000/8000 [==============================] - 1s - loss: 0.0163 - acc: 0.8111 - val_loss: 0.0162 - val_acc: 0.8095\n",
      "Epoch 9/10\n",
      "8000/8000 [==============================] - 1s - loss: 0.0154 - acc: 0.8114 - val_loss: 0.0154 - val_acc: 0.8090\n",
      "Epoch 10/10\n",
      "8000/8000 [==============================] - 1s - loss: 0.0147 - acc: 0.8116 - val_loss: 0.0148 - val_acc: 0.8100\n"
     ]
    },
    {
     "data": {
      "text/plain": [
       "<keras.callbacks.History at 0x7f39d23da710>"
      ]
     },
     "execution_count": 9,
     "metadata": {},
     "output_type": "execute_result"
    }
   ],
   "source": [
    "model.fit(X_train, X_train,\n",
    "         epochs=10,\n",
    "         shuffle=True,\n",
    "        batch_size=100,\n",
    "         validation_data=(X_test, X_test))"
   ]
  },
  {
   "cell_type": "code",
   "execution_count": 10,
   "metadata": {},
   "outputs": [
    {
     "name": "stdout",
     "output_type": "stream",
     "text": [
      "(100, 32)\n"
     ]
    }
   ],
   "source": [
    "enc_out = encoder.predict(X_train[:100])\n",
    "print enc_out.shape"
   ]
  },
  {
   "cell_type": "code",
   "execution_count": 11,
   "metadata": {},
   "outputs": [
    {
     "name": "stdout",
     "output_type": "stream",
     "text": [
      "(20, 32)\n"
     ]
    }
   ],
   "source": [
    "rnd_vec = np.random.uniform(low=-1, high=1, size=(20, emb_shape))\n",
    "print rnd_vec.shape"
   ]
  },
  {
   "cell_type": "code",
   "execution_count": 12,
   "metadata": {},
   "outputs": [
    {
     "name": "stdout",
     "output_type": "stream",
     "text": [
      "(20, 28, 28, 1)\n"
     ]
    }
   ],
   "source": [
    "rec = decoder.predict(rnd_vec)\n",
    "print rec.shape"
   ]
  },
  {
   "cell_type": "code",
   "execution_count": 13,
   "metadata": {},
   "outputs": [
    {
     "data": {
      "image/png": "[encoded data removed]",
      "text/plain": [
       "<matplotlib.figure.Figure at 0x7f39d2229750>"
      ]
     },
     "metadata": {},
     "output_type": "display_data"
    }
   ],
   "source": [
    "nx = 12\n",
    "\n",
    "plt.figure(0)\n",
    "#plt.imshow(X_train[nx].reshape((28, 28)), cmap='gray')\n",
    "\n",
    "#plt.figure(1)\n",
    "plt.imshow(rec[nx].reshape((28, 28)), cmap='gray')\n",
    "\n",
    "plt.show()"
   ]
  },
  {
   "cell_type": "code",
   "execution_count": 27,
   "metadata": {
    "collapsed": true
   },
   "outputs": [],
   "source": [
    "out_hwk=a2(c2(m1(a1(c1(inp)))))\n",
    "homework = Model(inputs=[inp], outputs=[out_hwk])\n",
    "hwk=homework.predict(X_train[:100])"
   ]
  },
  {
   "cell_type": "code",
   "execution_count": 28,
   "metadata": {},
   "outputs": [
    {
     "data": {
      "image/png": "[encoded data removed]",
      "text/plain": [
       "<matplotlib.figure.Figure at 0x7f399c66f0d0>"
      ]
     },
     "metadata": {},
     "output_type": "display_data"
    },
    {
     "data": {
      "image/png": "[encoded data removed]",
      "text/plain": [
       "<matplotlib.figure.Figure at 0x7f399c66f650>"
      ]
     },
     "metadata": {},
     "output_type": "display_data"
    },
    {
     "data": {
      "image/png": "[encoded data removed]",
      "text/plain": [
       "<matplotlib.figure.Figure at 0x7f399c63e390>"
      ]
     },
     "metadata": {},
     "output_type": "display_data"
    },
    {
     "data": {
      "image/png": "[encoded data removed]",
      "text/plain": [
       "<matplotlib.figure.Figure at 0x7f3960eaf310>"
      ]
     },
     "metadata": {},
     "output_type": "display_data"
    },
    {
     "data": {
      "image/png": "[encoded data removed]",
      "text/plain": [
       "<matplotlib.figure.Figure at 0x7f39d1993b10>"
      ]
     },
     "metadata": {},
     "output_type": "display_data"
    },
    {
     "data": {
      "image/png": "[encoded data removed]",
      "text/plain": [
       "<matplotlib.figure.Figure at 0x7f39784ec4d0>"
      ]
     },
     "metadata": {},
     "output_type": "display_data"
    },
    {
     "data": {
      "image/png": "[encoded data removed]",
      "text/plain": [
       "<matplotlib.figure.Figure at 0x7f3960f1a0d0>"
      ]
     },
     "metadata": {},
     "output_type": "display_data"
    },
    {
     "data": {
      "image/png": "[encoded data removed]",
      "text/plain": [
       "<matplotlib.figure.Figure at 0x7f39794aa7d0>"
      ]
     },
     "metadata": {},
     "output_type": "display_data"
    },
    {
     "data": {
      "image/png": "[encoded data removed]",
      "text/plain": [
       "<matplotlib.figure.Figure at 0x7f397851ec50>"
      ]
     },
     "metadata": {},
     "output_type": "display_data"
    }
   ],
   "source": [
    "nx = np.random.choice(range(100))\n",
    "plt.figure(0)\n",
    "plt.imshow(X_train[nx].reshape((28, 28)), cmap='gray')\n",
    "for ix in range(hwk.shape[3]):\n",
    "    plt.figure(ix+1)\n",
    "    plt.imshow(hwk[nx][:,:,ix].reshape((10, 10)), cmap='gray')\n",
    "\n",
    "plt.show()"
   ]
  },
  {
   "cell_type": "code",
   "execution_count": 16,
   "metadata": {},
   "outputs": [
    {
     "name": "stdout",
     "output_type": "stream",
     "text": [
      "(100, 10, 10, 8)\n"
     ]
    }
   ],
   "source": [
    "print hwk.shape"
   ]
  },
  {
   "cell_type": "code",
   "execution_count": 18,
   "metadata": {},
   "outputs": [
    {
     "data": {
      "text/plain": [
       "array([[ 0.15296203,  0.15296203,  0.21455376,  0.45891294,  0.43539554,\n",
       "         0.55605257,  0.70100111,  0.58356249,  0.20582747,  0.15296203],\n",
       "       [ 0.15296203,  0.15296203,  0.2310717 ,  0.241493  ,  0.0498727 ,\n",
       "         0.17235452,  0.52391827,  0.62596595,  0.25201279,  0.15296203],\n",
       "       [ 0.15296203,  0.15296203,  0.23573138,  0.1867464 ,  0.02890671,\n",
       "         0.13965794,  0.48074621,  0.64003086,  0.2587488 ,  0.15296203],\n",
       "       [ 0.15296203,  0.1791077 ,  0.36659423,  0.2898145 ,  0.2635923 ,\n",
       "         0.26863533,  0.59287125,  0.67238206,  0.20857744,  0.15296203],\n",
       "       [ 0.15296203,  0.21110314,  0.4121452 ,  0.23743349,  0.30287838,\n",
       "         0.35303152,  0.67872566,  0.67731214,  0.16842432,  0.15296203],\n",
       "       [ 0.15296203,  0.16249885,  0.16374373, -0.01318176,  0.18369088,\n",
       "         0.32961851,  0.70015103,  0.61704636,  0.15296203,  0.15296203],\n",
       "       [ 0.15296203,  0.11008531,  0.09286531, -0.0105961 ,  0.17242379,\n",
       "         0.36774102,  0.70976651,  0.55962884,  0.15296203,  0.15296203],\n",
       "       [ 0.15296203,  0.13815366,  0.15721272, -0.01690102,  0.12910764,\n",
       "         0.37363264,  0.74594617,  0.50850827,  0.15296203,  0.15296203],\n",
       "       [ 0.15296203,  0.15258135,  0.12399966, -0.08223729,  0.00862315,\n",
       "         0.29299682,  0.69637066,  0.45168298,  0.15296203,  0.15296203],\n",
       "       [ 0.15296203,  0.15296203,  0.00473463, -0.24815378, -0.2733703 ,\n",
       "         0.01052691,  0.66922283,  0.3471992 ,  0.15296203,  0.15296203]], dtype=float32)"
      ]
     },
     "execution_count": 18,
     "metadata": {},
     "output_type": "execute_result"
    }
   ],
   "source": [
    "hwk[nx][:,:,0].reshape((10, 10))"
   ]
  },
  {
   "cell_type": "code",
   "execution_count": null,
   "metadata": {
    "collapsed": true
   },
   "outputs": [],
   "source": [
    "\n"
   ]
  }
 ],
 "metadata": {
  "kernelspec": {
   "display_name": "Python 2",
   "language": "python",
   "name": "python2"
  },
  "language_info": {
   "codemirror_mode": {
    "name": "ipython",
    "version": 2
   },
   "file_extension": ".py",
   "mimetype": "text/x-python",
   "name": "python",
   "nbconvert_exporter": "python",
   "pygments_lexer": "ipython2",
   "version": "2.7.12+"
  }
 },
 "nbformat": 4,
 "nbformat_minor": 2
}
