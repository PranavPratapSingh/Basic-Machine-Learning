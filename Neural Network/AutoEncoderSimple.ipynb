{
 "cells": [
  {
   "cell_type": "code",
   "execution_count": 1,
   "metadata": {},
   "outputs": [
    {
     "name": "stderr",
     "output_type": "stream",
     "text": [
      "Using TensorFlow backend.\n"
     ]
    }
   ],
   "source": [
    "import numpy as np\n",
    "from matplotlib import pyplot as plt\n",
    "%matplotlib inline\n",
    "import seaborn as sns\n",
    "import pandas as pd\n",
    "import keras\n",
    "\n",
    "from keras.layers import Dense, Activation, Input\n",
    "from keras.models import Model"
   ]
  },
  {
   "cell_type": "code",
   "execution_count": 10,
   "metadata": {},
   "outputs": [
    {
     "name": "stdout",
     "output_type": "stream",
     "text": [
      "(5000, 784)\n"
     ]
    }
   ],
   "source": [
    "ds = pd.read_csv('Datasets/train.csv')\n",
    "data = ds.values[:5000, 1:]/255.0\n",
    "print data.shape\n"
   ]
  },
  {
   "cell_type": "code",
   "execution_count": 4,
   "metadata": {
    "scrolled": false
   },
   "outputs": [
    {
     "name": "stdout",
     "output_type": "stream",
     "text": [
      "_________________________________________________________________\n",
      "Layer (type)                 Output Shape              Param #   \n",
      "=================================================================\n",
      "input_1 (InputLayer)         (None, 784)               0         \n",
      "_________________________________________________________________\n",
      "dense_1 (Dense)              (None, 100)               78500     \n",
      "_________________________________________________________________\n",
      "activation_1 (Activation)    (None, 100)               0         \n",
      "_________________________________________________________________\n",
      "dense_2 (Dense)              (None, 2)                 202       \n",
      "_________________________________________________________________\n",
      "activation_2 (Activation)    (None, 2)                 0         \n",
      "_________________________________________________________________\n",
      "dense_3 (Dense)              (None, 100)               300       \n",
      "_________________________________________________________________\n",
      "activation_3 (Activation)    (None, 100)               0         \n",
      "_________________________________________________________________\n",
      "dense_4 (Dense)              (None, 784)               79184     \n",
      "_________________________________________________________________\n",
      "activation_4 (Activation)    (None, 784)               0         \n",
      "=================================================================\n",
      "Total params: 158,186\n",
      "Trainable params: 158,186\n",
      "Non-trainable params: 0\n",
      "_________________________________________________________________\n",
      "_________________________________________________________________\n",
      "Layer (type)                 Output Shape              Param #   \n",
      "=================================================================\n",
      "input_1 (InputLayer)         (None, 784)               0         \n",
      "_________________________________________________________________\n",
      "dense_1 (Dense)              (None, 100)               78500     \n",
      "_________________________________________________________________\n",
      "activation_1 (Activation)    (None, 100)               0         \n",
      "_________________________________________________________________\n",
      "dense_2 (Dense)              (None, 2)                 202       \n",
      "_________________________________________________________________\n",
      "activation_2 (Activation)    (None, 2)                 0         \n",
      "_________________________________________________________________\n",
      "dense_3 (Dense)              (None, 100)               300       \n",
      "_________________________________________________________________\n",
      "activation_3 (Activation)    (None, 100)               0         \n",
      "=================================================================\n",
      "Total params: 79,002\n",
      "Trainable params: 79,002\n",
      "Non-trainable params: 0\n",
      "_________________________________________________________________\n",
      "_________________________________________________________________\n",
      "Layer (type)                 Output Shape              Param #   \n",
      "=================================================================\n",
      "input_2 (InputLayer)         (None, 100)               0         \n",
      "_________________________________________________________________\n",
      "dense_4 (Dense)              (None, 784)               79184     \n",
      "_________________________________________________________________\n",
      "activation_4 (Activation)    (None, 784)               0         \n",
      "=================================================================\n",
      "Total params: 79,184\n",
      "Trainable params: 79,184\n",
      "Non-trainable params: 0\n",
      "_________________________________________________________________\n"
     ]
    }
   ],
   "source": [
    "# Define the layers\n",
    "inp = Input(shape=(784,))\n",
    "h1 = Dense(100)\n",
    "a1 = Activation('sigmoid')\n",
    "h2 = Dense(2)\n",
    "a2 = Activation('sigmoid')\n",
    "h3 = Dense(100)\n",
    "a3 = Activation('sigmoid')\n",
    "y = Dense(784,)\n",
    "ya = Activation('sigmoid')\n",
    "\n",
    "# connect layers for autoencoder\n",
    "out = ya(y(a3(h3(a2(h2(a1(h1(inp))))))))\n",
    "\n",
    "# Create autoencoder model\n",
    "model = Model(inputs=[inp], outputs=[out])\n",
    "model.summary()\n",
    "model.compile(loss='mse', optimizer='adam', metrics=['accuracy'])\n",
    "\n",
    "# Build encoder model\n",
    "encoder = Model(inputs=[inp], outputs=[a3(h3(a2(h2(a1(h1(inp))))))])\n",
    "encoder.summary()\n",
    "\n",
    "# Build decoder model\n",
    "dec_inp = Input(shape=(100,))\n",
    "dec_out = ya(y(dec_inp))\n",
    "decoder = Model(inputs=[dec_inp], outputs=[dec_out])\n",
    "decoder.summary()"
   ]
  },
  {
   "cell_type": "code",
   "execution_count": 5,
   "metadata": {},
   "outputs": [
    {
     "name": "stdout",
     "output_type": "stream",
     "text": [
      "Train on 4500 samples, validate on 500 samples\n",
      "Epoch 1/50\n",
      "4500/4500 [==============================] - 3s - loss: 0.1272 - acc: 0.0127 - val_loss: 0.0777 - val_acc: 0.0020\n",
      "Epoch 2/50\n",
      "4500/4500 [==============================] - 0s - loss: 0.0732 - acc: 0.0082 - val_loss: 0.0694 - val_acc: 0.0160\n",
      "Epoch 3/50\n",
      "4500/4500 [==============================] - 0s - loss: 0.0696 - acc: 0.0116 - val_loss: 0.0680 - val_acc: 0.0100\n",
      "Epoch 4/50\n",
      "4500/4500 [==============================] - 0s - loss: 0.0688 - acc: 0.0076 - val_loss: 0.0675 - val_acc: 0.0020\n",
      "Epoch 5/50\n",
      "4500/4500 [==============================] - 0s - loss: 0.0684 - acc: 0.0080 - val_loss: 0.0672 - val_acc: 0.0140\n",
      "Epoch 6/50\n",
      "4500/4500 [==============================] - 0s - loss: 0.0682 - acc: 0.0096 - val_loss: 0.0672 - val_acc: 0.0100\n",
      "Epoch 7/50\n",
      "4500/4500 [==============================] - 0s - loss: 0.0681 - acc: 0.0104 - val_loss: 0.0670 - val_acc: 0.0020\n",
      "Epoch 8/50\n",
      "4500/4500 [==============================] - 0s - loss: 0.0680 - acc: 0.0087 - val_loss: 0.0670 - val_acc: 0.0060\n",
      "Epoch 9/50\n",
      "4500/4500 [==============================] - 0s - loss: 0.0680 - acc: 0.0093 - val_loss: 0.0669 - val_acc: 0.0140\n",
      "Epoch 10/50\n",
      "4500/4500 [==============================] - 0s - loss: 0.0680 - acc: 0.0118 - val_loss: 0.0669 - val_acc: 0.0040\n",
      "Epoch 11/50\n",
      "4500/4500 [==============================] - 0s - loss: 0.0679 - acc: 0.0084 - val_loss: 0.0669 - val_acc: 0.0140\n",
      "Epoch 12/50\n",
      "4500/4500 [==============================] - 0s - loss: 0.0679 - acc: 0.0102 - val_loss: 0.0669 - val_acc: 0.0040\n",
      "Epoch 13/50\n",
      "4500/4500 [==============================] - 0s - loss: 0.0679 - acc: 0.0129 - val_loss: 0.0669 - val_acc: 0.0160\n",
      "Epoch 14/50\n",
      "4500/4500 [==============================] - 0s - loss: 0.0677 - acc: 0.0140 - val_loss: 0.0664 - val_acc: 0.0020\n",
      "Epoch 15/50\n",
      "4500/4500 [==============================] - 0s - loss: 0.0674 - acc: 0.0107 - val_loss: 0.0663 - val_acc: 0.0140\n",
      "Epoch 16/50\n",
      "4500/4500 [==============================] - 0s - loss: 0.0672 - acc: 0.0109 - val_loss: 0.0661 - val_acc: 0.0020\n",
      "Epoch 17/50\n",
      "4500/4500 [==============================] - 0s - loss: 0.0671 - acc: 0.0120 - val_loss: 0.0660 - val_acc: 0.0080\n",
      "Epoch 18/50\n",
      "4500/4500 [==============================] - 0s - loss: 0.0670 - acc: 0.0142 - val_loss: 0.0659 - val_acc: 0.0140\n",
      "Epoch 19/50\n",
      "4500/4500 [==============================] - 0s - loss: 0.0668 - acc: 0.0124 - val_loss: 0.0657 - val_acc: 0.0140\n",
      "Epoch 20/50\n",
      "4500/4500 [==============================] - 0s - loss: 0.0667 - acc: 0.0109 - val_loss: 0.0655 - val_acc: 0.0140\n",
      "Epoch 21/50\n",
      "4500/4500 [==============================] - 0s - loss: 0.0664 - acc: 0.0124 - val_loss: 0.0654 - val_acc: 0.0100\n",
      "Epoch 22/50\n",
      "4500/4500 [==============================] - 0s - loss: 0.0661 - acc: 0.0136 - val_loss: 0.0650 - val_acc: 0.0140\n",
      "Epoch 23/50\n",
      "4500/4500 [==============================] - 0s - loss: 0.0658 - acc: 0.0133 - val_loss: 0.0646 - val_acc: 0.0120\n",
      "Epoch 24/50\n",
      "4500/4500 [==============================] - 0s - loss: 0.0654 - acc: 0.0098 - val_loss: 0.0642 - val_acc: 0.0120\n",
      "Epoch 25/50\n",
      "4500/4500 [==============================] - 0s - loss: 0.0649 - acc: 0.0113 - val_loss: 0.0638 - val_acc: 0.0080\n",
      "Epoch 26/50\n",
      "4500/4500 [==============================] - 0s - loss: 0.0644 - acc: 0.0111 - val_loss: 0.0633 - val_acc: 0.0080\n",
      "Epoch 27/50\n",
      "4500/4500 [==============================] - 0s - loss: 0.0640 - acc: 0.0111 - val_loss: 0.0630 - val_acc: 0.0060\n",
      "Epoch 28/50\n",
      "4500/4500 [==============================] - 0s - loss: 0.0636 - acc: 0.0113 - val_loss: 0.0625 - val_acc: 0.0040\n",
      "Epoch 29/50\n",
      "4500/4500 [==============================] - 0s - loss: 0.0632 - acc: 0.0120 - val_loss: 0.0620 - val_acc: 0.0120\n",
      "Epoch 30/50\n",
      "4500/4500 [==============================] - 0s - loss: 0.0627 - acc: 0.0118 - val_loss: 0.0618 - val_acc: 0.0040\n",
      "Epoch 31/50\n",
      "4500/4500 [==============================] - 0s - loss: 0.0624 - acc: 0.0129 - val_loss: 0.0615 - val_acc: 0.0120\n",
      "Epoch 32/50\n",
      "4500/4500 [==============================] - 0s - loss: 0.0621 - acc: 0.0113 - val_loss: 0.0613 - val_acc: 0.0020\n",
      "Epoch 33/50\n",
      "4500/4500 [==============================] - 0s - loss: 0.0619 - acc: 0.0133 - val_loss: 0.0611 - val_acc: 0.0020\n",
      "Epoch 34/50\n",
      "4500/4500 [==============================] - 0s - loss: 0.0617 - acc: 0.0089 - val_loss: 0.0609 - val_acc: 0.0020\n",
      "Epoch 35/50\n",
      "4500/4500 [==============================] - 0s - loss: 0.0616 - acc: 0.0138 - val_loss: 0.0608 - val_acc: 0.0120\n",
      "Epoch 36/50\n",
      "4500/4500 [==============================] - 0s - loss: 0.0615 - acc: 0.0120 - val_loss: 0.0607 - val_acc: 0.0120\n",
      "Epoch 37/50\n",
      "4500/4500 [==============================] - 0s - loss: 0.0613 - acc: 0.0138 - val_loss: 0.0607 - val_acc: 0.0120\n",
      "Epoch 38/50\n",
      "4500/4500 [==============================] - 0s - loss: 0.0613 - acc: 0.0104 - val_loss: 0.0606 - val_acc: 0.0040\n",
      "Epoch 39/50\n",
      "4500/4500 [==============================] - 0s - loss: 0.0612 - acc: 0.0127 - val_loss: 0.0605 - val_acc: 0.0120\n",
      "Epoch 40/50\n",
      "4500/4500 [==============================] - 0s - loss: 0.0611 - acc: 0.0127 - val_loss: 0.0605 - val_acc: 0.0140\n",
      "Epoch 41/50\n",
      "4500/4500 [==============================] - 0s - loss: 0.0610 - acc: 0.0122 - val_loss: 0.0603 - val_acc: 0.0120\n",
      "Epoch 42/50\n",
      "4500/4500 [==============================] - 0s - loss: 0.0609 - acc: 0.0142 - val_loss: 0.0602 - val_acc: 0.0140\n",
      "Epoch 43/50\n",
      "4500/4500 [==============================] - 0s - loss: 0.0608 - acc: 0.0136 - val_loss: 0.0602 - val_acc: 0.0060\n",
      "Epoch 44/50\n",
      "4500/4500 [==============================] - 0s - loss: 0.0607 - acc: 0.0133 - val_loss: 0.0601 - val_acc: 0.0100\n",
      "Epoch 45/50\n",
      "4500/4500 [==============================] - 0s - loss: 0.0606 - acc: 0.0122 - val_loss: 0.0600 - val_acc: 0.0060\n",
      "Epoch 46/50\n",
      "4500/4500 [==============================] - 0s - loss: 0.0605 - acc: 0.0140 - val_loss: 0.0599 - val_acc: 0.0080\n",
      "Epoch 47/50\n",
      "4500/4500 [==============================] - 0s - loss: 0.0603 - acc: 0.0116 - val_loss: 0.0597 - val_acc: 0.0100\n",
      "Epoch 48/50\n",
      "4500/4500 [==============================] - 0s - loss: 0.0602 - acc: 0.0124 - val_loss: 0.0595 - val_acc: 0.0140\n",
      "Epoch 49/50\n",
      "4500/4500 [==============================] - 0s - loss: 0.0600 - acc: 0.0149 - val_loss: 0.0593 - val_acc: 0.0120\n",
      "Epoch 50/50\n",
      "4500/4500 [==============================] - 0s - loss: 0.0598 - acc: 0.0129 - val_loss: 0.0592 - val_acc: 0.0060\n"
     ]
    }
   ],
   "source": [
    "hist = model.fit(data[:4500], data[:4500],\n",
    "                epochs=50,\n",
    "                shuffle=True,\n",
    "                batch_size=100,\n",
    "                validation_data=(data[4500:], data[4500:]))"
   ]
  },
  {
   "cell_type": "code",
   "execution_count": 6,
   "metadata": {},
   "outputs": [
    {
     "name": "stdout",
     "output_type": "stream",
     "text": [
      "(100, 100)\n"
     ]
    }
   ],
   "source": [
    "ex = encoder.predict(data[:100])\n",
    "print ex.shape"
   ]
  },
  {
   "cell_type": "code",
   "execution_count": 7,
   "metadata": {},
   "outputs": [
    {
     "name": "stdout",
     "output_type": "stream",
     "text": [
      "(100, 784)\n"
     ]
    }
   ],
   "source": [
    "dx = decoder.predict(ex)\n",
    "print dx.shape"
   ]
  },
  {
   "cell_type": "code",
   "execution_count": 17,
   "metadata": {},
   "outputs": [
    {
     "data": {
      "text/plain": [
       "<matplotlib.image.AxesImage at 0x7f870427d850>"
      ]
     },
     "execution_count": 17,
     "metadata": {},
     "output_type": "execute_result"
    },
    {
     "data": {
      "image/png": "[encoded data removed]",
      "text/plain": [
       "<matplotlib.figure.Figure at 0x7f87042db590>"
      ]
     },
     "metadata": {},
     "output_type": "display_data"
    },
    {
     "data": {
      "image/png": "[encoded data removed]",
      "text/plain": [
       "<matplotlib.figure.Figure at 0x7f8704271b10>"
      ]
     },
     "metadata": {},
     "output_type": "display_data"
    }
   ],
   "source": [
    "n=np.random.choice(range(100))\n",
    "plt.figure(0)\n",
    "plt.grid('off')\n",
    "plt.imshow(data[n].reshape((28, 28)), cmap='gray')\n",
    "\n",
    "plt.figure(1)\n",
    "plt.grid('off')\n",
    "plt.imshow(dx[n].reshape((28, 28)), cmap='gray')"
   ]
  },
  {
   "cell_type": "code",
   "execution_count": null,
   "metadata": {
    "collapsed": true
   },
   "outputs": [],
   "source": [
    "print n\n"
   ]
  },
  {
   "cell_type": "code",
   "execution_count": null,
   "metadata": {
    "collapsed": true
   },
   "outputs": [],
   "source": []
  }
 ],
 "metadata": {
  "kernelspec": {
   "display_name": "Python 2",
   "language": "python",
   "name": "python2"
  },
  "language_info": {
   "codemirror_mode": {
    "name": "ipython",
    "version": 2
   },
   "file_extension": ".py",
   "mimetype": "text/x-python",
   "name": "python",
   "nbconvert_exporter": "python",
   "pygments_lexer": "ipython2",
   "version": "2.7.12+"
  }
 },
 "nbformat": 4,
 "nbformat_minor": 2
}
