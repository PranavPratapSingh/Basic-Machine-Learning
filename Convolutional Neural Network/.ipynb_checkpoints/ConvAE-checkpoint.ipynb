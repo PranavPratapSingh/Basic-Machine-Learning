{
 "cells": [
  {
   "cell_type": "code",
   "execution_count": 1,
   "metadata": {},
   "outputs": [
    {
     "name": "stderr",
     "output_type": "stream",
     "text": [
      "Using TensorFlow backend.\n"
     ]
    }
   ],
   "source": [
    "import numpy as np\n",
    "import pandas as pd\n",
    "from matplotlib import pyplot as plt\n",
    "%matplotlib inline\n",
    "\n",
    "import keras\n",
    "\n",
    "from keras.layers import Convolution2D, Flatten, Dense, MaxPool2D, Activation, Dropout\n",
    "from keras.layers import UpSampling2D, Reshape, ZeroPadding2D, Input\n",
    "from keras.models import Model\n",
    "from keras.utils import np_utils"
   ]
  },
  {
   "cell_type": "code",
   "execution_count": 2,
   "metadata": {
    "collapsed": true
   },
   "outputs": [],
   "source": [
    "# Data loading\n",
    "\n",
    "ds = pd.read_csv('/home/pranavpratapsingh/Documents/Codes/Python/Datasets/train.csv')\n",
    "ds.shape\n",
    "data = ds.values[:10000]"
   ]
  },
  {
   "cell_type": "code",
   "execution_count": 3,
   "metadata": {},
   "outputs": [
    {
     "name": "stdout",
     "output_type": "stream",
     "text": [
      "(10000, 784) (10000, 10)\n"
     ]
    }
   ],
   "source": [
    "X = data[:, 1:]/255.0\n",
    "y = np_utils.to_categorical(data[:, 0])\n",
    "\n",
    "print X.shape, y.shape"
   ]
  },
  {
   "cell_type": "code",
   "execution_count": 4,
   "metadata": {},
   "outputs": [
    {
     "name": "stdout",
     "output_type": "stream",
     "text": [
      "(8000, 28, 28, 1) (2000, 28, 28, 1)\n"
     ]
    }
   ],
   "source": [
    "split = int(0.8 * X.shape[0])\n",
    "\n",
    "X_train = X[:split].reshape((-1, 28, 28, 1))\n",
    "X_test = X[split:].reshape((-1, 28, 28, 1))\n",
    "print X_train.shape, X_test.shape"
   ]
  },
  {
   "cell_type": "code",
   "execution_count": 5,
   "metadata": {},
   "outputs": [
    {
     "data": {
      "image/png": "[encoded data removed]",
      "text/plain": [
       "<matplotlib.figure.Figure at 0x7fb515788d50>"
      ]
     },
     "metadata": {},
     "output_type": "display_data"
    }
   ],
   "source": [
    "n_img = 42\n",
    "\n",
    "plt.imshow(X_train[n_img].reshape((28, 28)), cmap='gray')\n",
    "plt.show()"
   ]
  },
  {
   "cell_type": "code",
   "execution_count": 6,
   "metadata": {},
   "outputs": [
    {
     "name": "stdout",
     "output_type": "stream",
     "text": [
      "_________________________________________________________________\n",
      "Layer (type)                 Output Shape              Param #   \n",
      "=================================================================\n",
      "input_1 (InputLayer)         (None, 28, 28, 1)         0         \n",
      "_________________________________________________________________\n",
      "conv2d_1 (Conv2D)            (None, 24, 24, 32)        832       \n",
      "_________________________________________________________________\n",
      "activation_1 (Activation)    (None, 24, 24, 32)        0         \n",
      "_________________________________________________________________\n",
      "max_pooling2d_1 (MaxPooling2 (None, 12, 12, 32)        0         \n",
      "_________________________________________________________________\n",
      "conv2d_2 (Conv2D)            (None, 10, 10, 8)         2312      \n",
      "_________________________________________________________________\n",
      "activation_2 (Activation)    (None, 10, 10, 8)         0         \n",
      "_________________________________________________________________\n",
      "max_pooling2d_2 (MaxPooling2 (None, 5, 5, 8)           0         \n",
      "_________________________________________________________________\n",
      "flatten_1 (Flatten)          (None, 200)               0         \n",
      "_________________________________________________________________\n",
      "dense_1 (Dense)              (None, 32)                6432      \n",
      "_________________________________________________________________\n",
      "activation_3 (Activation)    (None, 32)                0         \n",
      "_________________________________________________________________\n",
      "dense_2 (Dense)              (None, 200)               6600      \n",
      "_________________________________________________________________\n",
      "activation_4 (Activation)    (None, 200)               0         \n",
      "_________________________________________________________________\n",
      "reshape_1 (Reshape)          (None, 5, 5, 8)           0         \n",
      "_________________________________________________________________\n",
      "up_sampling2d_1 (UpSampling2 (None, 10, 10, 8)         0         \n",
      "_________________________________________________________________\n",
      "zero_padding2d_1 (ZeroPaddin (None, 12, 12, 8)         0         \n",
      "_________________________________________________________________\n",
      "conv2d_3 (Conv2D)            (None, 12, 12, 32)        2336      \n",
      "_________________________________________________________________\n",
      "up_sampling2d_2 (UpSampling2 (None, 24, 24, 32)        0         \n",
      "_________________________________________________________________\n",
      "zero_padding2d_2 (ZeroPaddin (None, 28, 28, 32)        0         \n",
      "_________________________________________________________________\n",
      "conv2d_4 (Conv2D)            (None, 28, 28, 1)         801       \n",
      "=================================================================\n",
      "Total params: 19,313\n",
      "Trainable params: 19,313\n",
      "Non-trainable params: 0\n",
      "_________________________________________________________________\n"
     ]
    }
   ],
   "source": [
    "inp = Input(shape=(28, 28, 1))\n",
    "\n",
    "c1 = Convolution2D(32, (5, 5))\n",
    "a1 = Activation('relu')\n",
    "\n",
    "m1 = MaxPool2D(pool_size=(2, 2))\n",
    "\n",
    "c2 = Convolution2D(8, (3, 3))\n",
    "a2 = Activation('relu')\n",
    "\n",
    "m2 = MaxPool2D(pool_size=(2, 2))\n",
    "f1 = Flatten()\n",
    "\n",
    "emb_shape = 32\n",
    "e1 = Dense(emb_shape)\n",
    "emb = Activation('tanh')\n",
    "\n",
    "fc1 = Dense(200)\n",
    "a3 = Activation('sigmoid')\n",
    "\n",
    "re1 = Reshape((5, 5, 8))\n",
    "\n",
    "up1 = UpSampling2D(size=(2, 2))\n",
    "\n",
    "zp1 = ZeroPadding2D(padding=(1, 1))\n",
    "dc1 = Convolution2D(32, (3, 3), padding='same', activation='relu')\n",
    "\n",
    "up2 = UpSampling2D(size=(2, 2))\n",
    "\n",
    "zp2 = ZeroPadding2D(padding=(2, 2))\n",
    "dc2 = Convolution2D(1, (5, 5), padding='same', activation='relu')\n",
    "\n",
    "\n",
    "out_enc = emb(e1(f1(m2(a2(c2(m1(a1(c1(inp)))))))))\n",
    "out_model = dc2(zp2(up2(dc1(zp1(up1(re1(a3(fc1(out_enc)))))))))\n",
    "\n",
    "\n",
    "model = Model(inputs=[inp], outputs=[out_model])\n",
    "model.summary()\n",
    "\n",
    "model.compile(loss='mse', optimizer='adam', metrics=['accuracy'])\n",
    "\n",
    "encoder = Model(inputs=[inp], outputs=[out_enc])"
   ]
  },
  {
   "cell_type": "code",
   "execution_count": 7,
   "metadata": {},
   "outputs": [
    {
     "name": "stdout",
     "output_type": "stream",
     "text": [
      "_________________________________________________________________\n",
      "Layer (type)                 Output Shape              Param #   \n",
      "=================================================================\n",
      "input_1 (InputLayer)         (None, 28, 28, 1)         0         \n",
      "_________________________________________________________________\n",
      "conv2d_1 (Conv2D)            (None, 24, 24, 32)        832       \n",
      "_________________________________________________________________\n",
      "activation_1 (Activation)    (None, 24, 24, 32)        0         \n",
      "_________________________________________________________________\n",
      "max_pooling2d_1 (MaxPooling2 (None, 12, 12, 32)        0         \n",
      "_________________________________________________________________\n",
      "conv2d_2 (Conv2D)            (None, 10, 10, 8)         2312      \n",
      "_________________________________________________________________\n",
      "activation_2 (Activation)    (None, 10, 10, 8)         0         \n",
      "_________________________________________________________________\n",
      "max_pooling2d_2 (MaxPooling2 (None, 5, 5, 8)           0         \n",
      "_________________________________________________________________\n",
      "flatten_1 (Flatten)          (None, 200)               0         \n",
      "_________________________________________________________________\n",
      "dense_1 (Dense)              (None, 32)                6432      \n",
      "_________________________________________________________________\n",
      "activation_3 (Activation)    (None, 32)                0         \n",
      "=================================================================\n",
      "Total params: 9,576\n",
      "Trainable params: 9,576\n",
      "Non-trainable params: 0\n",
      "_________________________________________________________________\n"
     ]
    }
   ],
   "source": [
    "encoder.summary()"
   ]
  },
  {
   "cell_type": "code",
   "execution_count": 8,
   "metadata": {
    "scrolled": false
   },
   "outputs": [
    {
     "name": "stdout",
     "output_type": "stream",
     "text": [
      "_________________________________________________________________\n",
      "Layer (type)                 Output Shape              Param #   \n",
      "=================================================================\n",
      "input_2 (InputLayer)         (None, 32)                0         \n",
      "_________________________________________________________________\n",
      "dense_2 (Dense)              (None, 200)               6600      \n",
      "_________________________________________________________________\n",
      "activation_4 (Activation)    (None, 200)               0         \n",
      "_________________________________________________________________\n",
      "reshape_1 (Reshape)          (None, 5, 5, 8)           0         \n",
      "_________________________________________________________________\n",
      "up_sampling2d_1 (UpSampling2 (None, 10, 10, 8)         0         \n",
      "_________________________________________________________________\n",
      "zero_padding2d_1 (ZeroPaddin (None, 12, 12, 8)         0         \n",
      "_________________________________________________________________\n",
      "conv2d_3 (Conv2D)            (None, 12, 12, 32)        2336      \n",
      "_________________________________________________________________\n",
      "up_sampling2d_2 (UpSampling2 (None, 24, 24, 32)        0         \n",
      "_________________________________________________________________\n",
      "zero_padding2d_2 (ZeroPaddin (None, 28, 28, 32)        0         \n",
      "_________________________________________________________________\n",
      "conv2d_4 (Conv2D)            (None, 28, 28, 1)         801       \n",
      "=================================================================\n",
      "Total params: 9,737\n",
      "Trainable params: 9,737\n",
      "Non-trainable params: 0\n",
      "_________________________________________________________________\n"
     ]
    }
   ],
   "source": [
    "dec_inp = Input(shape=(emb_shape,))\n",
    "\n",
    "dec_out = dc2(zp2(up2(dc1(zp1(up1(re1(a3(fc1(dec_inp)))))))))\n",
    "\n",
    "decoder = Model(inputs=[dec_inp], outputs=[dec_out])\n",
    "decoder.summary()"
   ]
  },
  {
   "cell_type": "code",
   "execution_count": 9,
   "metadata": {},
   "outputs": [
    {
     "name": "stdout",
     "output_type": "stream",
     "text": [
      "Train on 8000 samples, validate on 2000 samples\n",
      "Epoch 1/10\n",
      "8000/8000 [==============================] - 7s - loss: 0.0612 - acc: 0.8022 - val_loss: 0.0427 - val_acc: 0.7925\n",
      "Epoch 2/10\n",
      "8000/8000 [==============================] - 2s - loss: 0.0352 - acc: 0.8030 - val_loss: 0.0309 - val_acc: 0.8047\n",
      "Epoch 3/10\n",
      "8000/8000 [==============================] - 2s - loss: 0.0277 - acc: 0.8067 - val_loss: 0.0254 - val_acc: 0.8052\n",
      "Epoch 4/10\n",
      "8000/8000 [==============================] - 2s - loss: 0.0238 - acc: 0.8083 - val_loss: 0.0224 - val_acc: 0.8074\n",
      "Epoch 5/10\n",
      "8000/8000 [==============================] - 2s - loss: 0.0211 - acc: 0.8094 - val_loss: 0.0203 - val_acc: 0.8076\n",
      "Epoch 6/10\n",
      "8000/8000 [==============================] - 2s - loss: 0.0194 - acc: 0.8100 - val_loss: 0.0189 - val_acc: 0.8085\n",
      "Epoch 7/10\n",
      "8000/8000 [==============================] - 2s - loss: 0.0181 - acc: 0.8105 - val_loss: 0.0177 - val_acc: 0.8087\n",
      "Epoch 8/10\n",
      "8000/8000 [==============================] - 2s - loss: 0.0170 - acc: 0.8109 - val_loss: 0.0169 - val_acc: 0.8089\n",
      "Epoch 9/10\n",
      "8000/8000 [==============================] - 2s - loss: 0.0162 - acc: 0.8112 - val_loss: 0.0163 - val_acc: 0.8085\n",
      "Epoch 10/10\n",
      "8000/8000 [==============================] - 2s - loss: 0.0155 - acc: 0.8114 - val_loss: 0.0154 - val_acc: 0.8093\n"
     ]
    },
    {
     "data": {
      "text/plain": [
       "<keras.callbacks.History at 0x7fb4b15d8750>"
      ]
     },
     "execution_count": 9,
     "metadata": {},
     "output_type": "execute_result"
    }
   ],
   "source": [
    "model.fit(X_train, X_train,\n",
    "         epochs=10,\n",
    "         shuffle=True,\n",
    "        batch_size=100,\n",
    "         validation_data=(X_test, X_test))"
   ]
  },
  {
   "cell_type": "code",
   "execution_count": 10,
   "metadata": {},
   "outputs": [
    {
     "name": "stdout",
     "output_type": "stream",
     "text": [
      "(100, 32)\n"
     ]
    }
   ],
   "source": [
    "enc_out = encoder.predict(X_train[:100])\n",
    "print enc_out.shape"
   ]
  },
  {
   "cell_type": "code",
   "execution_count": 11,
   "metadata": {},
   "outputs": [
    {
     "name": "stdout",
     "output_type": "stream",
     "text": [
      "(20, 32)\n"
     ]
    }
   ],
   "source": [
    "rnd_vec = np.random.uniform(low=-1, high=1, size=(20, emb_shape))\n",
    "print rnd_vec.shape"
   ]
  },
  {
   "cell_type": "code",
   "execution_count": 12,
   "metadata": {},
   "outputs": [
    {
     "name": "stdout",
     "output_type": "stream",
     "text": [
      "(20, 28, 28, 1)\n"
     ]
    }
   ],
   "source": [
    "rec = decoder.predict(rnd_vec)\n",
    "print rec.shape"
   ]
  },
  {
   "cell_type": "code",
   "execution_count": 13,
   "metadata": {},
   "outputs": [
    {
     "data": {
      "image/png": "[encoded data removed]",
      "text/plain": [
       "<matplotlib.figure.Figure at 0x7fb4b1428850>"
      ]
     },
     "metadata": {},
     "output_type": "display_data"
    }
   ],
   "source": [
    "nx = 12\n",
    "\n",
    "plt.figure(0)\n",
    "#plt.imshow(X_train[nx].reshape((28, 28)), cmap='gray')\n",
    "\n",
    "#plt.figure(1)\n",
    "plt.imshow(rec[nx].reshape((28, 28)), cmap='gray')\n",
    "\n",
    "plt.show()"
   ]
  },
  {
   "cell_type": "code",
   "execution_count": 14,
   "metadata": {
    "collapsed": true
   },
   "outputs": [],
   "source": [
    "out_hwk=a2(c2(m1(a1(c1(inp)))))\n",
    "homework = Model(inputs=[inp], outputs=[out_hwk])\n",
    "hwk=homework.predict(X_train[:100])"
   ]
  },
  {
   "cell_type": "code",
   "execution_count": 15,
   "metadata": {},
   "outputs": [
    {
     "data": {
      "image/png": "[encoded data removed]",
      "text/plain": [
       "<matplotlib.figure.Figure at 0x7fb4b0ad6a10>"
      ]
     },
     "metadata": {},
     "output_type": "display_data"
    },
    {
     "data": {
      "image/png": "[encoded data removed]",
      "text/plain": [
       "<matplotlib.figure.Figure at 0x7fb4b0ad6f90>"
      ]
     },
     "metadata": {},
     "output_type": "display_data"
    },
    {
     "data": {
      "image/png": "[encoded data removed]",
      "text/plain": [
       "<matplotlib.figure.Figure at 0x7fb4807c6410>"
      ]
     },
     "metadata": {},
     "output_type": "display_data"
    },
    {
     "data": {
      "image/png": "[encoded data removed]",
      "text/plain": [
       "<matplotlib.figure.Figure at 0x7fb48072fc10>"
      ]
     },
     "metadata": {},
     "output_type": "display_data"
    },
    {
     "data": {
      "image/png": "[encoded data removed]",
      "text/plain": [
       "<matplotlib.figure.Figure at 0x7fb4806dfd90>"
      ]
     },
     "metadata": {},
     "output_type": "display_data"
    },
    {
     "data": {
      "image/png": "[encoded data removed]",
      "text/plain": [
       "<matplotlib.figure.Figure at 0x7fb4787f4ed0>"
      ]
     },
     "metadata": {},
     "output_type": "display_data"
    },
    {
     "data": {
      "image/png": "[encoded data removed]",
      "text/plain": [
       "<matplotlib.figure.Figure at 0x7fb478707cd0>"
      ]
     },
     "metadata": {},
     "output_type": "display_data"
    },
    {
     "data": {
      "image/png": "[encoded data removed]",
      "text/plain": [
       "<matplotlib.figure.Figure at 0x7fb4b13e0790>"
      ]
     },
     "metadata": {},
     "output_type": "display_data"
    },
    {
     "data": {
      "image/png": "[encoded data removed]",
      "text/plain": [
       "<matplotlib.figure.Figure at 0x7fb4b0aa0310>"
      ]
     },
     "metadata": {},
     "output_type": "display_data"
    }
   ],
   "source": [
    "nx = np.random.choice(range(100))\n",
    "plt.figure(0)\n",
    "plt.imshow(X_train[nx].reshape((28, 28)), cmap='gray')\n",
    "for ix in range(hwk.shape[3]):\n",
    "    plt.figure(ix+1)\n",
    "    plt.imshow(hwk[nx][:,:,ix].reshape((10, 10)), cmap='gray')\n",
    "\n",
    "plt.show()"
   ]
  },
  {
   "cell_type": "code",
   "execution_count": 16,
   "metadata": {},
   "outputs": [
    {
     "name": "stdout",
     "output_type": "stream",
     "text": [
      "(100, 10, 10, 8)\n"
     ]
    }
   ],
   "source": [
    "print hwk.shape"
   ]
  },
  {
   "cell_type": "code",
   "execution_count": 17,
   "metadata": {},
   "outputs": [
    {
     "data": {
      "text/plain": [
       "array([[ 0.17199042,  0.50127006,  0.78250849,  0.93869877,  0.88207096,\n",
       "         0.58614212,  0.11378085,  0.        ,  0.        ,  0.        ],\n",
       "       [ 0.59796798,  1.10747254,  1.20115173,  1.15014315,  1.08732688,\n",
       "         0.97550303,  0.45965824,  0.04612399,  0.        ,  0.        ],\n",
       "       [ 1.04784083,  1.1585412 ,  0.93409711,  0.81737256,  1.05952621,\n",
       "         1.22196889,  0.93577105,  0.24848801,  0.        ,  0.        ],\n",
       "       [ 1.14235342,  1.2434243 ,  1.1410327 ,  0.94945323,  1.21388483,\n",
       "         1.29965675,  1.05642819,  0.44305602,  0.03301179,  0.        ],\n",
       "       [ 1.00238371,  1.22567999,  1.34516549,  1.3777709 ,  1.50378323,\n",
       "         1.34482718,  1.0061661 ,  0.54987311,  0.17239372,  0.        ],\n",
       "       [ 0.47114176,  0.7411052 ,  0.95910412,  1.40578794,  1.5368377 ,\n",
       "         1.40791512,  1.2085892 ,  0.93295282,  0.48538211,  0.04050739],\n",
       "       [ 0.06786326,  0.20193598,  0.4565357 ,  1.09935403,  1.26968312,\n",
       "         1.15190029,  1.12684834,  1.25218856,  0.98554653,  0.29449829],\n",
       "       [ 0.        ,  0.        ,  0.22669891,  0.9058364 ,  1.05470645,\n",
       "         0.83909827,  0.84051448,  1.17556822,  1.18697119,  0.54846168],\n",
       "       [ 0.        ,  0.        ,  0.15624429,  0.77681816,  1.07720411,\n",
       "         1.10156846,  1.17236352,  1.2191205 ,  1.04234195,  0.4555217 ],\n",
       "       [ 0.        ,  0.        ,  0.05309299,  0.43505132,  0.89086497,\n",
       "         1.19794583,  1.34818053,  1.23380804,  0.82517749,  0.36045137]], dtype=float32)"
      ]
     },
     "execution_count": 17,
     "metadata": {},
     "output_type": "execute_result"
    }
   ],
   "source": [
    "hwk[nx][:,:,0].reshape((10, 10))"
   ]
  },
  {
   "cell_type": "code",
   "execution_count": null,
   "metadata": {
    "collapsed": true
   },
   "outputs": [],
   "source": [
    "\n"
   ]
  }
 ],
 "metadata": {
  "kernelspec": {
   "display_name": "Python 3",
   "language": "python",
   "name": "python3"
  },
  "language_info": {
   "codemirror_mode": {
    "name": "ipython",
    "version": 3
   },
   "file_extension": ".py",
   "mimetype": "text/x-python",
   "name": "python",
   "nbconvert_exporter": "python",
   "pygments_lexer": "ipython3",
   "version": "3.7.2"
  }
 },
 "nbformat": 4,
 "nbformat_minor": 2
}
