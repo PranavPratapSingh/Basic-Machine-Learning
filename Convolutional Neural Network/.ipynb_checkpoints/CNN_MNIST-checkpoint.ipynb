{
 "cells": [
  {
   "cell_type": "code",
   "execution_count": 3,
   "metadata": {},
   "outputs": [
    {
     "name": "stderr",
     "output_type": "stream",
     "text": [
      "Using TensorFlow backend.\n"
     ]
    }
   ],
   "source": [
    "import numpy as np\n",
    "import pandas as pd\n",
    "from matplotlib import pyplot as plt\n",
    "%matplotlib inline\n",
    "\n",
    "import keras\n",
    "\n",
    "from keras.layers import Convolution2D, Flatten, Dense, MaxPool2D, Activation, Dropout\n",
    "from keras.models import Sequential\n",
    "from keras.utils import np_utils"
   ]
  },
  {
   "cell_type": "code",
   "execution_count": 4,
   "metadata": {
    "collapsed": true
   },
   "outputs": [],
   "source": [
    "ds=pd.read_csv('../Datasets/train.csv')\n",
    "data=ds.values[:10000]"
   ]
  },
  {
   "cell_type": "code",
   "execution_count": 5,
   "metadata": {},
   "outputs": [
    {
     "name": "stdout",
     "output_type": "stream",
     "text": [
      "(10000, 784) (10000, 10)\n"
     ]
    }
   ],
   "source": [
    "X=data[:,1:]/255.0\n",
    "y=np_utils.to_categorical(data[:,0])\n",
    "\n",
    "print X.shape, y.shape"
   ]
  },
  {
   "cell_type": "code",
   "execution_count": 6,
   "metadata": {},
   "outputs": [
    {
     "name": "stdout",
     "output_type": "stream",
     "text": [
      "(8000, 28, 28, 1) (2000, 28, 28, 1)\n",
      "(8000, 10) (2000, 10)\n"
     ]
    }
   ],
   "source": [
    "split= int(0.8*X.shape[0])\n",
    "\n",
    "X_train=X[:split].reshape((-1,28,28,1))\n",
    "X_test=X[split:].reshape((-1,28,28,1))\n",
    "\n",
    "y_train=y[:split]\n",
    "y_test=y[split:]\n",
    "\n",
    "print X_train.shape, X_test.shape\n",
    "print y_train.shape, y_test.shape"
   ]
  },
  {
   "cell_type": "code",
   "execution_count": 7,
   "metadata": {},
   "outputs": [
    {
     "data": {
      "image/png": "[encoded data removed]",
      "text/plain": [
       "<matplotlib.figure.Figure at 0x7efe59cc3a10>"
      ]
     },
     "metadata": {},
     "output_type": "display_data"
    }
   ],
   "source": [
    "plt.imshow(X_train[27].reshape((28,28)),cmap='gray')\n",
    "plt.show()"
   ]
  },
  {
   "cell_type": "code",
   "execution_count": 10,
   "metadata": {},
   "outputs": [
    {
     "name": "stdout",
     "output_type": "stream",
     "text": [
      "_________________________________________________________________\n",
      "Layer (type)                 Output Shape              Param #   \n",
      "=================================================================\n",
      "conv2d_3 (Conv2D)            (None, 24, 24, 32)        832       \n",
      "_________________________________________________________________\n",
      "activation_4 (Activation)    (None, 24, 24, 32)        0         \n",
      "_________________________________________________________________\n",
      "conv2d_4 (Conv2D)            (None, 22, 22, 16)        4624      \n",
      "_________________________________________________________________\n",
      "activation_5 (Activation)    (None, 22, 22, 16)        0         \n",
      "_________________________________________________________________\n",
      "flatten_2 (Flatten)          (None, 7744)              0         \n",
      "_________________________________________________________________\n",
      "dropout_2 (Dropout)          (None, 7744)              0         \n",
      "_________________________________________________________________\n",
      "dense_2 (Dense)              (None, 10)                77450     \n",
      "_________________________________________________________________\n",
      "activation_6 (Activation)    (None, 10)                0         \n",
      "=================================================================\n",
      "Total params: 82,906\n",
      "Trainable params: 82,906\n",
      "Non-trainable params: 0\n",
      "_________________________________________________________________\n"
     ]
    }
   ],
   "source": [
    "model=Sequential()\n",
    "\n",
    "model.add(Convolution2D(32, (5,5) ,input_shape=(28,28,1)))\n",
    "model.add(Activation('relu'))\n",
    "\n",
    "model.add(Convolution2D(16, (3,3)))\n",
    "model.add(Activation('relu'))\n",
    "\n",
    "\n",
    "\n",
    "model.add(Flatten())\n",
    "model.add(Dropout(0.5))\n",
    "\n",
    "model.add(Dense(10))\n",
    "model.add(Activation('softmax'))\n",
    "\n",
    "model.summary()\n",
    "model.compile(loss='categorical_crossentropy', optimizer='nadam', metrics=['accuracy'])"
   ]
  },
  {
   "cell_type": "code",
   "execution_count": 11,
   "metadata": {},
   "outputs": [
    {
     "name": "stdout",
     "output_type": "stream",
     "text": [
      "Train on 8000 samples, validate on 2000 samples\n",
      "Epoch 1/10\n",
      "8000/8000 [==============================] - 1s - loss: 0.5103 - acc: 0.8468 - val_loss: 0.1740 - val_acc: 0.9525\n",
      "Epoch 2/10\n",
      "8000/8000 [==============================] - 1s - loss: 0.1753 - acc: 0.9455 - val_loss: 0.1176 - val_acc: 0.9655\n",
      "Epoch 3/10\n",
      "8000/8000 [==============================] - 1s - loss: 0.1127 - acc: 0.9662 - val_loss: 0.1102 - val_acc: 0.9675\n",
      "Epoch 4/10\n",
      "8000/8000 [==============================] - 1s - loss: 0.0876 - acc: 0.9732 - val_loss: 0.0870 - val_acc: 0.9705\n",
      "Epoch 5/10\n",
      "8000/8000 [==============================] - 1s - loss: 0.0720 - acc: 0.9766 - val_loss: 0.0901 - val_acc: 0.9715\n",
      "Epoch 6/10\n",
      "8000/8000 [==============================] - 1s - loss: 0.0560 - acc: 0.9821 - val_loss: 0.1034 - val_acc: 0.9715\n",
      "Epoch 7/10\n",
      "8000/8000 [==============================] - 1s - loss: 0.0466 - acc: 0.9856 - val_loss: 0.0834 - val_acc: 0.9730\n",
      "Epoch 8/10\n",
      "8000/8000 [==============================] - 1s - loss: 0.0382 - acc: 0.9881 - val_loss: 0.0813 - val_acc: 0.9785\n",
      "Epoch 9/10\n",
      "8000/8000 [==============================] - 1s - loss: 0.0328 - acc: 0.9892 - val_loss: 0.0789 - val_acc: 0.9740\n",
      "Epoch 10/10\n",
      "8000/8000 [==============================] - 1s - loss: 0.0316 - acc: 0.9881 - val_loss: 0.0761 - val_acc: 0.9765\n"
     ]
    }
   ],
   "source": [
    "hist=model.fit(X_train,y_train,\n",
    "               epochs=10,\n",
    "               batch_size=100,\n",
    "               validation_data=(X_test,y_test)\n",
    "              )"
   ]
  }
 ],
 "metadata": {
  "kernelspec": {
   "display_name": "Python 3",
   "language": "python",
   "name": "python3"
  },
  "language_info": {
   "codemirror_mode": {
    "name": "ipython",
    "version": 3
   },
   "file_extension": ".py",
   "mimetype": "text/x-python",
   "name": "python",
   "nbconvert_exporter": "python",
   "pygments_lexer": "ipython3",
   "version": "3.7.2"
  }
 },
 "nbformat": 4,
 "nbformat_minor": 2
}
