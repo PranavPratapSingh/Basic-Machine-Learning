{
 "cells": [
  {
   "cell_type": "code",
   "execution_count": 2,
   "metadata": {
    "collapsed": true
   },
   "outputs": [],
   "source": [
    "import numpy as np\n",
    "from matplotlib import pyplot as plt\n",
    "import pandas as pd\n",
    "import seaborn as sns\n"
   ]
  },
  {
   "cell_type": "code",
   "execution_count": 3,
   "metadata": {},
   "outputs": [
    {
     "name": "stdout",
     "output_type": "stream",
     "text": [
      "(500, 2) (500, 2)\n"
     ]
    }
   ],
   "source": [
    "mean_01 = np.array([1, 0.5])\n",
    "cov_01 = np.array([[1, 0.1], [0.1, 1.2]])\n",
    "\n",
    "mean_02 = np.array([4, 5])\n",
    "cov_02 = np.array([[1, 0.1], [0.1, 1.2]])\n",
    "\n",
    "# print mean_01\n",
    "# print cov_01\n",
    "\n",
    "dist_01 = np.random.multivariate_normal(mean_01, cov_01, 500)\n",
    "dist_02 = np.random.multivariate_normal(mean_02, cov_02, 500)\n",
    "print dist_01.shape, dist_02.shape"
   ]
  },
  {
   "cell_type": "code",
   "execution_count": 4,
   "metadata": {},
   "outputs": [
    {
     "data": {
      "image/png": "[encoded data removed]",
      "text/plain": [
       "<matplotlib.figure.Figure at 0x7f89ee834510>"
      ]
     },
     "metadata": {},
     "output_type": "display_data"
    }
   ],
   "source": [
    "plt.figure(0)\n",
    "plt.xlim(-5, 10)\n",
    "plt.ylim(-5, 10)\n",
    "\n",
    "plt.scatter(dist_01[:, 0], dist_01[:, 1])\n",
    "plt.scatter(dist_02[:, 0], dist_02[:, 1])#, color='red')\n",
    "plt.show()"
   ]
  },
  {
   "cell_type": "code",
   "execution_count": 5,
   "metadata": {},
   "outputs": [
    {
     "name": "stdout",
     "output_type": "stream",
     "text": [
      "(1000, 3)\n",
      "[ 2.52227761  2.75947127  0.5       ]\n"
     ]
    }
   ],
   "source": [
    "\n",
    "r = dist_01.shape[0] + dist_02.shape[0]\n",
    "c = dist_01.shape[1] + 1\n",
    "data = np.zeros((r, c))\n",
    "print data.shape\n",
    "\n",
    "data[:dist_01.shape[0], :2] = dist_01\n",
    "data[dist_01.shape[0]:, :2] = dist_02\n",
    "data[dist_01.shape[0]:, -1] = 1.0\n",
    "\n",
    "print data.mean(axis=0)"
   ]
  },
  {
   "cell_type": "code",
   "execution_count": 6,
   "metadata": {},
   "outputs": [
    {
     "name": "stdout",
     "output_type": "stream",
     "text": [
      "[[  2.10479667e+00  -1.02963482e+00   0.00000000e+00]\n",
      " [ -7.50222561e-01  -5.99464285e-01   0.00000000e+00]\n",
      " [  4.36977340e+00   6.34853180e+00   1.00000000e+00]\n",
      " [  2.74500314e+00   5.66082684e+00   1.00000000e+00]\n",
      " [ -2.48001859e-01   3.92103540e-02   0.00000000e+00]\n",
      " [ -1.87849322e-04   1.74514586e-01   0.00000000e+00]\n",
      " [  4.00096905e+00   4.30640338e+00   1.00000000e+00]\n",
      " [ -6.29657462e-01   9.33031418e-01   0.00000000e+00]\n",
      " [  2.39946733e+00   1.96338202e+00   0.00000000e+00]\n",
      " [ -1.13482184e+00  -5.31423126e-01   0.00000000e+00]]\n"
     ]
    }
   ],
   "source": [
    "np.random.shuffle(data)\n",
    "print data[:10]"
   ]
  },
  {
   "cell_type": "code",
   "execution_count": 21,
   "metadata": {},
   "outputs": [
    {
     "name": "stdout",
     "output_type": "stream",
     "text": [
      "(200, 2)\n"
     ]
    }
   ],
   "source": [
    "split=int(0.8*data.shape[0])\n",
    "X_train=data[:split,:-1]\n",
    "y_train=data[:split,-1:]\n",
    "X_test=data[split:,:-1]\n",
    "y_test=data[split:,-1:]\n",
    "print X_test.shape"
   ]
  },
  {
   "cell_type": "code",
   "execution_count": 33,
   "metadata": {},
   "outputs": [],
   "source": [
    "# hypothesis function\n",
    "def hypothesis(x, w,b):\n",
    "    '''\n",
    "        Function Accepts Input vectort x, Weight Vector w, \n",
    "        and bias(intercept) b.\n",
    "    '''\n",
    "    h=(x*w).sum() + b\n",
    "    \n",
    "    return sigmoid(h)\n",
    "\n",
    "#sigmoid Funtion\n",
    "def sigmoid(z):\n",
    "    return 1.0/(1.0+np.exp(-1.0*z))\n",
    "\n",
    "# error compute\n",
    "def get_error(y_true, x, w,b):\n",
    "    err = 0.0\n",
    "    \n",
    "    # Get number of examples\n",
    "    m = x.shape[0]\n",
    "    for ix in range(m):\n",
    "        # for each example compute the binary cross-entropy\n",
    "        if y_true[ix]==1:\n",
    "            err+= -1.0*np.log2(hypothesis(x[ix],w,b))\n",
    "        else:\n",
    "            err+= -1.0*np.log2(1.0 - hypothesis(x[ix],w,b))\n",
    "    # Get mean error\n",
    "    err = err / (m)\n",
    "    return err\n",
    "\n",
    "# error gradient\n",
    "def get_grads(y_true, x, w ,b):\n",
    "    grad_w = np.zeros(w.shape)\n",
    "    grad_b = 0.0\n",
    "    \n",
    "    # Get number of examples\n",
    "    m = x.shape[0]\n",
    "    \n",
    "    for ix in range(m):\n",
    "        # for each example compute the gradients\n",
    "        grad_w += (y_true[ix] - hypothesis(x[ix], w , b))*(-1)*(x[ix])\n",
    "        grad_b += (y_true[ix] - hypothesis(x[ix], w , b))*(-1)\n",
    "    \n",
    "    # Get mean grads\n",
    "    grad_w = grad_w / m\n",
    "    grad_b = grad_b / m\n",
    "    return [grad_w, grad_b]\n",
    "\n",
    "# update weights using grad. desc.\n",
    "def grad_descent(x, y_true, w,b, learning_rate=0.1):\n",
    "    error = get_error(y_true, x, w, b )\n",
    "    [grad_w, grad_b] = get_grads(y_true, x, w ,b)\n",
    "    \n",
    "    w = w - learning_rate*grad_w\n",
    "    b = b - learning_rate*grad_b\n",
    "    \n",
    "    return error, w,b\n",
    "def Predict (x,w,b):\n",
    "    prob=hypothesis(x,w,b)\n",
    "    if prob<0.5 :\n",
    "        return 0\n",
    "    else:\n",
    "        return 1"
   ]
  },
  {
   "cell_type": "code",
   "execution_count": 34,
   "metadata": {},
   "outputs": [],
   "source": [
    "loss=[]\n",
    "w=np.random.random((X_train.shape[1],))\n",
    "b=np.random.random()"
   ]
  },
  {
   "cell_type": "code",
   "execution_count": 36,
   "metadata": {},
   "outputs": [],
   "source": [
    "for ix in range(100):\n",
    "    l,w,b=grad_descent(X_train,y_train,w,b,learning_rate=0.01)\n",
    "    loss.append(l)"
   ]
  },
  {
   "cell_type": "code",
   "execution_count": 39,
   "metadata": {},
   "outputs": [
    {
     "data": {
      "image/png": "[encoded data removed]",
      "text/plain": [
       "<matplotlib.figure.Figure at 0x7f89ec5d9f90>"
      ]
     },
     "metadata": {},
     "output_type": "display_data"
    }
   ],
   "source": [
    "plt.figure(0)\n",
    "plt.plot(loss)\n",
    "plt.show()"
   ]
  },
  {
   "cell_type": "code",
   "execution_count": null,
   "metadata": {
    "collapsed": true
   },
   "outputs": [],
   "source": [
    "def get_acc(x_tst,y_tst,w,b):\n",
    "    y_pred=[]\n",
    "\n",
    "    for ix in range(y_tst.shape[0]):\n",
    "        y_pred.append\n",
    "    "
   ]
  }
 ],
 "metadata": {
  "kernelspec": {
   "display_name": "Python 2",
   "language": "python",
   "name": "python2"
  },
  "language_info": {
   "codemirror_mode": {
    "name": "ipython",
    "version": 2
   },
   "file_extension": ".py",
   "mimetype": "text/x-python",
   "name": "python",
   "nbconvert_exporter": "python",
   "pygments_lexer": "ipython2",
   "version": "2.7.13"
  }
 },
 "nbformat": 4,
 "nbformat_minor": 2
}
